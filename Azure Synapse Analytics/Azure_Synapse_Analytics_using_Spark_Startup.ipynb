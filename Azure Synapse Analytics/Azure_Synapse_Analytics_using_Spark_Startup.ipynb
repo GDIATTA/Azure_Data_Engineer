{
  "cells": [
    {
      "cell_type": "markdown",
      "source": [
        "#### Load a data from Data Lake into a dataframe"
      ],
      "metadata": {
        "nteract": {
          "transient": {
            "deleting": false
          }
        }
      }
    },
    {
      "cell_type": "code",
      "source": [
        "%%pyspark\n",
        "df = spark.read.load('abfss://filegauss@lakegauss.dfs.core.windows.net/50_Startups.csv', format='csv'\n",
        "## If header exists uncomment line below\n",
        ", header=True\n",
        ")\n",
        "display(df.limit(10))"
      ],
      "outputs": [
        {
          "output_type": "display_data",
          "data": {
            "application/vnd.livy.statement-meta+json": {
              "spark_pool": "Spark1",
              "statement_id": 15,
              "statement_ids": [
                15
              ],
              "state": "finished",
              "livy_statement_state": "available",
              "spark_jobs": null,
              "session_id": "0",
              "normalized_state": "finished",
              "queued_time": "2024-08-14T14:22:45.8201728Z",
              "session_start_time": null,
              "execution_start_time": "2024-08-14T14:22:46.0544886Z",
              "execution_finish_time": "2024-08-14T14:22:47.2613591Z",
              "parent_msg_id": "096260a7-b7a3-4e0e-8a0a-9e22c46bdce6"
            },
            "text/plain": "StatementMeta(Spark1, 0, 15, Finished, Available, Finished)"
          },
          "metadata": {}
        },
        {
          "output_type": "display_data",
          "data": {
            "application/vnd.synapse.widget-view+json": {
              "widget_id": "8b5d7731-004c-481f-9d53-6067c03d4aac",
              "widget_type": "Synapse.DataFrame"
            },
            "text/plain": "SynapseWidget(Synapse.DataFrame, 8b5d7731-004c-481f-9d53-6067c03d4aac)"
          },
          "metadata": {}
        }
      ],
      "execution_count": 14,
      "metadata": {
        "jupyter": {
          "source_hidden": false,
          "outputs_hidden": false
        },
        "nteract": {
          "transient": {
            "deleting": false
          }
        },
        "collapsed": false
      }
    },
    {
      "cell_type": "markdown",
      "source": [
        "#### Print the schema of the dataframe"
      ],
      "metadata": {
        "nteract": {
          "transient": {
            "deleting": false
          }
        }
      }
    },
    {
      "cell_type": "code",
      "source": [
        "%%pyspark\n",
        "df.printSchema()"
      ],
      "outputs": [
        {
          "output_type": "display_data",
          "data": {
            "application/vnd.livy.statement-meta+json": {
              "spark_pool": "Spark1",
              "statement_id": 16,
              "statement_ids": [
                16
              ],
              "state": "finished",
              "livy_statement_state": "available",
              "spark_jobs": null,
              "session_id": "0",
              "normalized_state": "finished",
              "queued_time": "2024-08-14T14:22:54.3099111Z",
              "session_start_time": null,
              "execution_start_time": "2024-08-14T14:22:54.5252481Z",
              "execution_finish_time": "2024-08-14T14:22:54.752223Z",
              "parent_msg_id": "26064181-9637-423b-966a-b089c9968289"
            },
            "text/plain": "StatementMeta(Spark1, 0, 16, Finished, Available, Finished)"
          },
          "metadata": {}
        },
        {
          "output_type": "stream",
          "name": "stdout",
          "text": [
            "root\n |-- RD_Spend: string (nullable = true)\n |-- Administration: string (nullable = true)\n |-- Marketing_Spend: string (nullable = true)\n |-- State: string (nullable = true)\n |-- Profit: string (nullable = true)\n\n"
          ]
        }
      ],
      "execution_count": 15,
      "metadata": {
        "jupyter": {
          "source_hidden": false,
          "outputs_hidden": false
        },
        "nteract": {
          "transient": {
            "deleting": false
          }
        }
      }
    },
    {
      "cell_type": "markdown",
      "source": [
        "#### Load the 50_Startups data into the Spark Startup database"
      ],
      "metadata": {
        "nteract": {
          "transient": {
            "deleting": false
          }
        }
      }
    },
    {
      "cell_type": "code",
      "source": [
        "%%pyspark\n",
        "spark.sql(\"CREATE DATABASE IF NOT EXISTS Startup\")\n",
        "df.write.mode(\"overwrite\").saveAsTable(\"Startup.trip\")"
      ],
      "outputs": [
        {
          "output_type": "display_data",
          "data": {
            "application/vnd.livy.statement-meta+json": {
              "spark_pool": "Spark1",
              "statement_id": 17,
              "statement_ids": [
                17
              ],
              "state": "finished",
              "livy_statement_state": "available",
              "spark_jobs": null,
              "session_id": "0",
              "normalized_state": "finished",
              "queued_time": "2024-08-14T14:23:00.969925Z",
              "session_start_time": null,
              "execution_start_time": "2024-08-14T14:23:01.1325641Z",
              "execution_finish_time": "2024-08-14T14:23:05.24512Z",
              "parent_msg_id": "7c4f0333-9f30-4234-bee8-9f955606f7c7"
            },
            "text/plain": "StatementMeta(Spark1, 0, 17, Finished, Available, Finished)"
          },
          "metadata": {}
        }
      ],
      "execution_count": 16,
      "metadata": {
        "jupyter": {
          "source_hidden": false,
          "outputs_hidden": false
        },
        "nteract": {
          "transient": {
            "deleting": false
          }
        }
      }
    },
    {
      "cell_type": "markdown",
      "source": [
        "#### Analyze the Startups data using Spark and notebooks"
      ],
      "metadata": {
        "nteract": {
          "transient": {
            "deleting": false
          }
        }
      }
    },
    {
      "cell_type": "code",
      "source": [
        "%%pyspark\n",
        "df = spark.sql(\"SELECT * FROM Startup.trip\") \n",
        "display(df)"
      ],
      "outputs": [
        {
          "output_type": "display_data",
          "data": {
            "application/vnd.livy.statement-meta+json": {
              "spark_pool": "Spark1",
              "statement_id": 18,
              "statement_ids": [
                18
              ],
              "state": "finished",
              "livy_statement_state": "available",
              "spark_jobs": null,
              "session_id": "0",
              "normalized_state": "finished",
              "queued_time": "2024-08-14T14:23:10.8043422Z",
              "session_start_time": null,
              "execution_start_time": "2024-08-14T14:23:10.9657938Z",
              "execution_finish_time": "2024-08-14T14:23:12.152417Z",
              "parent_msg_id": "94e39db4-f26d-4beb-a3de-0f63d78bedab"
            },
            "text/plain": "StatementMeta(Spark1, 0, 18, Finished, Available, Finished)"
          },
          "metadata": {}
        },
        {
          "output_type": "display_data",
          "data": {
            "application/vnd.synapse.widget-view+json": {
              "widget_id": "5c49e777-f16c-4613-99a9-757c835a7d53",
              "widget_type": "Synapse.DataFrame"
            },
            "text/plain": "SynapseWidget(Synapse.DataFrame, 5c49e777-f16c-4613-99a9-757c835a7d53)"
          },
          "metadata": {}
        }
      ],
      "execution_count": 17,
      "metadata": {
        "jupyter": {
          "source_hidden": false,
          "outputs_hidden": false
        },
        "nteract": {
          "transient": {
            "deleting": false
          }
        },
        "collapsed": false
      }
    },
    {
      "cell_type": "code",
      "source": [
        "%%pyspark\n",
        "df = spark.sql(\"\"\"\n",
        "   SELECT *\n",
        "   FROM Startup.trip\n",
        "   WHERE State = 'New York'\n",
        "\"\"\") \n",
        "display(df)\n",
        "df.write.saveAsTable(\"Startup.newyorkstate1\")"
      ],
      "outputs": [
        {
          "output_type": "display_data",
          "data": {
            "application/vnd.livy.statement-meta+json": {
              "spark_pool": "Spark1",
              "statement_id": 20,
              "statement_ids": [
                20
              ],
              "state": "finished",
              "livy_statement_state": "available",
              "spark_jobs": null,
              "session_id": "0",
              "normalized_state": "finished",
              "queued_time": "2024-08-14T14:26:51.9022755Z",
              "session_start_time": null,
              "execution_start_time": "2024-08-14T14:26:52.1028866Z",
              "execution_finish_time": "2024-08-14T14:26:56.2304028Z",
              "parent_msg_id": "44f96e84-1959-473d-af60-222054ff769c"
            },
            "text/plain": "StatementMeta(Spark1, 0, 20, Finished, Available, Finished)"
          },
          "metadata": {}
        },
        {
          "output_type": "display_data",
          "data": {
            "application/vnd.synapse.widget-view+json": {
              "widget_id": "e0d89c36-b31a-4b52-a383-1c076f7e0c3b",
              "widget_type": "Synapse.DataFrame"
            },
            "text/plain": "SynapseWidget(Synapse.DataFrame, e0d89c36-b31a-4b52-a383-1c076f7e0c3b)"
          },
          "metadata": {}
        }
      ],
      "execution_count": 19,
      "metadata": {
        "jupyter": {
          "source_hidden": false,
          "outputs_hidden": false
        },
        "nteract": {
          "transient": {
            "deleting": false
          }
        },
        "collapsed": false
      }
    },
    {
      "cell_type": "markdown",
      "source": [
        "#### Create CSV and Parquet files in your storage account"
      ],
      "metadata": {
        "nteract": {
          "transient": {
            "deleting": false
          }
        }
      }
    },
    {
      "cell_type": "code",
      "source": [
        "%%pyspark\n",
        "df = spark.sql(\"SELECT * FROM Startup.newyorkstate\")\n",
        "df = df.repartition(1) # This ensures we'll get a single file during write()\n",
        "df.write.mode(\"overwrite\").csv(\"/Folder2/Newyorkstate1_csvformat\")\n",
        "df.write.mode(\"overwrite\").parquet(\"/Folder2/Newyorkstate1_parquetformat\")"
      ],
      "outputs": [
        {
          "output_type": "display_data",
          "data": {
            "application/vnd.livy.statement-meta+json": {
              "spark_pool": "Spark1",
              "statement_id": 22,
              "statement_ids": [
                22
              ],
              "state": "finished",
              "livy_statement_state": "available",
              "spark_jobs": null,
              "session_id": "0",
              "normalized_state": "finished",
              "queued_time": "2024-08-14T14:56:38.0091379Z",
              "session_start_time": null,
              "execution_start_time": "2024-08-14T14:56:38.1907574Z",
              "execution_finish_time": "2024-08-14T14:56:41.1652877Z",
              "parent_msg_id": "88e9515c-475c-4b2f-a2e6-10892edecf3c"
            },
            "text/plain": "StatementMeta(Spark1, 0, 22, Finished, Available, Finished)"
          },
          "metadata": {}
        }
      ],
      "execution_count": 21,
      "metadata": {
        "jupyter": {
          "source_hidden": false,
          "outputs_hidden": false
        },
        "nteract": {
          "transient": {
            "deleting": false
          }
        }
      }
    },
    {
      "cell_type": "markdown",
      "source": [
        "#### Analyze data in a storage account"
      ],
      "metadata": {
        "nteract": {
          "transient": {
            "deleting": false
          }
        }
      }
    },
    {
      "cell_type": "code",
      "source": [
        "%%pyspark\n",
        "df = spark.read.load('abfss://filegauss@lakegauss.dfs.core.windows.net/Folder2/Newyorkstate1_parquetformat/part-00000-dcc113f0-98e4-4d54-a76f-00b0cefe49cc-c000.snappy.parquet', format='parquet')\n",
        "display(df.limit(10))"
      ],
      "outputs": [
        {
          "output_type": "display_data",
          "data": {
            "application/vnd.livy.statement-meta+json": {
              "spark_pool": "Spark1",
              "statement_id": 23,
              "statement_ids": [
                23
              ],
              "state": "finished",
              "livy_statement_state": "available",
              "spark_jobs": null,
              "session_id": "0",
              "normalized_state": "finished",
              "queued_time": "2024-08-14T15:10:09.4732659Z",
              "session_start_time": null,
              "execution_start_time": "2024-08-14T15:10:09.6636122Z",
              "execution_finish_time": "2024-08-14T15:10:11.6277987Z",
              "parent_msg_id": "933c3a82-c78b-4da3-bdc3-729f764b8a9d"
            },
            "text/plain": "StatementMeta(Spark1, 0, 23, Finished, Available, Finished)"
          },
          "metadata": {}
        },
        {
          "output_type": "display_data",
          "data": {
            "application/vnd.synapse.widget-view+json": {
              "widget_id": "122297ef-031f-402b-bd66-a772320ea759",
              "widget_type": "Synapse.DataFrame"
            },
            "text/plain": "SynapseWidget(Synapse.DataFrame, 122297ef-031f-402b-bd66-a772320ea759)"
          },
          "metadata": {}
        }
      ],
      "execution_count": 22,
      "metadata": {
        "jupyter": {
          "source_hidden": false,
          "outputs_hidden": false
        },
        "nteract": {
          "transient": {
            "deleting": false
          }
        },
        "collapsed": false
      }
    },
    {
      "cell_type": "code",
      "source": [],
      "outputs": [],
      "execution_count": null,
      "metadata": {
        "jupyter": {
          "source_hidden": false,
          "outputs_hidden": false
        },
        "nteract": {
          "transient": {
            "deleting": false
          }
        }
      }
    }
  ],
  "metadata": {
    "language_info": {
      "name": "python"
    },
    "kernelspec": {
      "name": "synapse_pyspark",
      "language": "Python",
      "display_name": "Synapse PySpark"
    },
    "kernel_info": {
      "name": "synapse_pyspark"
    },
    "description": null,
    "save_output": true,
    "synapse_widget": {
      "version": "0.1",
      "state": {
        "8b5d7731-004c-481f-9d53-6067c03d4aac": {
          "type": "Synapse.DataFrame",
          "sync_state": {
            "table": {
              "rows": [
                {
                  "0": "165349.2",
                  "1": "136897.8",
                  "2": "471784.1",
                  "3": "New York",
                  "4": "192261.83"
                },
                {
                  "0": "162597.7",
                  "1": "151377.59",
                  "2": "443898.53",
                  "3": "California",
                  "4": "191792.06"
                },
                {
                  "0": "153441.51",
                  "1": "101145.55",
                  "2": "407934.54",
                  "3": "Florida",
                  "4": "191050.39"
                },
                {
                  "0": "144372.41",
                  "1": "118671.85",
                  "2": "383199.62",
                  "3": "New York",
                  "4": "182901.99"
                },
                {
                  "0": "142107.34",
                  "1": "91391.77",
                  "2": "366168.42",
                  "3": "Florida",
                  "4": "166187.94"
                },
                {
                  "0": "131876.9",
                  "1": "99814.71",
                  "2": "362861.36",
                  "3": "New York",
                  "4": "156991.12"
                },
                {
                  "0": "134615.46",
                  "1": "147198.87",
                  "2": "127716.82",
                  "3": "California",
                  "4": "156122.51"
                },
                {
                  "0": "130298.13",
                  "1": "145530.06",
                  "2": "323876.68",
                  "3": "Florida",
                  "4": "155752.6"
                },
                {
                  "0": "120542.52",
                  "1": "148718.95",
                  "2": "311613.29",
                  "3": "New York",
                  "4": "152211.77"
                },
                {
                  "0": "123334.88",
                  "1": "108679.17",
                  "2": "304981.62",
                  "3": "California",
                  "4": "149759.96"
                }
              ],
              "schema": [
                {
                  "key": "0",
                  "name": "RD_Spend",
                  "type": "string"
                },
                {
                  "key": "1",
                  "name": "Administration",
                  "type": "string"
                },
                {
                  "key": "2",
                  "name": "Marketing_Spend",
                  "type": "string"
                },
                {
                  "key": "3",
                  "name": "State",
                  "type": "string"
                },
                {
                  "key": "4",
                  "name": "Profit",
                  "type": "string"
                }
              ],
              "truncated": false
            },
            "isSummary": false,
            "language": "scala"
          },
          "persist_state": {
            "view": {
              "type": "details",
              "tableOptions": {},
              "chartOptions": {
                "chartType": "bar",
                "aggregationType": "count",
                "categoryFieldKeys": [
                  "0"
                ],
                "seriesFieldKeys": [
                  "0"
                ],
                "isStacked": false
              }
            }
          }
        },
        "5c49e777-f16c-4613-99a9-757c835a7d53": {
          "type": "Synapse.DataFrame",
          "sync_state": {
            "table": {
              "rows": [
                {
                  "0": "165349.2",
                  "1": "136897.8",
                  "2": "471784.1",
                  "3": "New York",
                  "4": "192261.83"
                },
                {
                  "0": "162597.7",
                  "1": "151377.59",
                  "2": "443898.53",
                  "3": "California",
                  "4": "191792.06"
                },
                {
                  "0": "153441.51",
                  "1": "101145.55",
                  "2": "407934.54",
                  "3": "Florida",
                  "4": "191050.39"
                },
                {
                  "0": "144372.41",
                  "1": "118671.85",
                  "2": "383199.62",
                  "3": "New York",
                  "4": "182901.99"
                },
                {
                  "0": "142107.34",
                  "1": "91391.77",
                  "2": "366168.42",
                  "3": "Florida",
                  "4": "166187.94"
                },
                {
                  "0": "131876.9",
                  "1": "99814.71",
                  "2": "362861.36",
                  "3": "New York",
                  "4": "156991.12"
                },
                {
                  "0": "134615.46",
                  "1": "147198.87",
                  "2": "127716.82",
                  "3": "California",
                  "4": "156122.51"
                },
                {
                  "0": "130298.13",
                  "1": "145530.06",
                  "2": "323876.68",
                  "3": "Florida",
                  "4": "155752.6"
                },
                {
                  "0": "120542.52",
                  "1": "148718.95",
                  "2": "311613.29",
                  "3": "New York",
                  "4": "152211.77"
                },
                {
                  "0": "123334.88",
                  "1": "108679.17",
                  "2": "304981.62",
                  "3": "California",
                  "4": "149759.96"
                },
                {
                  "0": "101913.08",
                  "1": "110594.11",
                  "2": "229160.95",
                  "3": "Florida",
                  "4": "146121.95"
                },
                {
                  "0": "100671.96",
                  "1": "91790.61",
                  "2": "249744.55",
                  "3": "California",
                  "4": "144259.4"
                },
                {
                  "0": "93863.75",
                  "1": "127320.38",
                  "2": "249839.44",
                  "3": "Florida",
                  "4": "141585.52"
                },
                {
                  "0": "91992.39",
                  "1": "135495.07",
                  "2": "252664.93",
                  "3": "California",
                  "4": "134307.35"
                },
                {
                  "0": "119943.24",
                  "1": "156547.42",
                  "2": "256512.92",
                  "3": "Florida",
                  "4": "132602.65"
                },
                {
                  "0": "114523.61",
                  "1": "122616.84",
                  "2": "261776.23",
                  "3": "New York",
                  "4": "129917.04"
                },
                {
                  "0": "78013.11",
                  "1": "121597.55",
                  "2": "264346.06",
                  "3": "California",
                  "4": "126992.93"
                },
                {
                  "0": "94657.16",
                  "1": "145077.58",
                  "2": "282574.31",
                  "3": "New York",
                  "4": "125370.37"
                },
                {
                  "0": "91749.16",
                  "1": "114175.79",
                  "2": "294919.57",
                  "3": "Florida",
                  "4": "124266.9"
                },
                {
                  "0": "86419.7",
                  "1": "153514.11",
                  "2": "0",
                  "3": "New York",
                  "4": "122776.86"
                },
                {
                  "0": "76253.86",
                  "1": "113867.3",
                  "2": "298664.47",
                  "3": "California",
                  "4": "118474.03"
                },
                {
                  "0": "78389.47",
                  "1": "153773.43",
                  "2": "299737.29",
                  "3": "New York",
                  "4": "111313.02"
                },
                {
                  "0": "73994.56",
                  "1": "122782.75",
                  "2": "303319.26",
                  "3": "Florida",
                  "4": "110352.25"
                },
                {
                  "0": "67532.53",
                  "1": "105751.03",
                  "2": "304768.73",
                  "3": "Florida",
                  "4": "108733.99"
                },
                {
                  "0": "77044.01",
                  "1": "99281.34",
                  "2": "140574.81",
                  "3": "New York",
                  "4": "108552.04"
                },
                {
                  "0": "64664.71",
                  "1": "139553.16",
                  "2": "137962.62",
                  "3": "California",
                  "4": "107404.34"
                },
                {
                  "0": "75328.87",
                  "1": "144135.98",
                  "2": "134050.07",
                  "3": "Florida",
                  "4": "105733.54"
                },
                {
                  "0": "72107.6",
                  "1": "127864.55",
                  "2": "353183.81",
                  "3": "New York",
                  "4": "105008.31"
                },
                {
                  "0": "66051.52",
                  "1": "182645.56",
                  "2": "118148.2",
                  "3": "Florida",
                  "4": "103282.38"
                },
                {
                  "0": "65605.48",
                  "1": "153032.06",
                  "2": "107138.38",
                  "3": "New York",
                  "4": "101004.64"
                },
                {
                  "0": "61994.48",
                  "1": "115641.28",
                  "2": "91131.24",
                  "3": "Florida",
                  "4": "99937.59"
                },
                {
                  "0": "61136.38",
                  "1": "152701.92",
                  "2": "88218.23",
                  "3": "New York",
                  "4": "97483.56"
                },
                {
                  "0": "63408.86",
                  "1": "129219.61",
                  "2": "46085.25",
                  "3": "California",
                  "4": "97427.84"
                },
                {
                  "0": "55493.95",
                  "1": "103057.49",
                  "2": "214634.81",
                  "3": "Florida",
                  "4": "96778.92"
                },
                {
                  "0": "46426.07",
                  "1": "157693.92",
                  "2": "210797.67",
                  "3": "California",
                  "4": "96712.8"
                },
                {
                  "0": "46014.02",
                  "1": "85047.44",
                  "2": "205517.64",
                  "3": "New York",
                  "4": "96479.51"
                },
                {
                  "0": "28663.76",
                  "1": "127056.21",
                  "2": "201126.82",
                  "3": "Florida",
                  "4": "90708.19"
                },
                {
                  "0": "44069.95",
                  "1": "51283.14",
                  "2": "197029.42",
                  "3": "California",
                  "4": "89949.14"
                },
                {
                  "0": "20229.59",
                  "1": "65947.93",
                  "2": "185265.1",
                  "3": "New York",
                  "4": "81229.06"
                },
                {
                  "0": "38558.51",
                  "1": "82982.09",
                  "2": "174999.3",
                  "3": "California",
                  "4": "81005.76"
                },
                {
                  "0": "28754.33",
                  "1": "118546.05",
                  "2": "172795.67",
                  "3": "California",
                  "4": "78239.91"
                },
                {
                  "0": "27892.92",
                  "1": "84710.77",
                  "2": "164470.71",
                  "3": "Florida",
                  "4": "77798.83"
                },
                {
                  "0": "23640.93",
                  "1": "96189.63",
                  "2": "148001.11",
                  "3": "California",
                  "4": "71498.49"
                },
                {
                  "0": "15505.73",
                  "1": "127382.3",
                  "2": "35534.17",
                  "3": "New York",
                  "4": "69758.98"
                },
                {
                  "0": "22177.74",
                  "1": "154806.14",
                  "2": "28334.72",
                  "3": "California",
                  "4": "65200.33"
                },
                {
                  "0": "1000.23",
                  "1": "124153.04",
                  "2": "1903.93",
                  "3": "New York",
                  "4": "64926.08"
                },
                {
                  "0": "1315.46",
                  "1": "115816.21",
                  "2": "297114.46",
                  "3": "Florida",
                  "4": "49490.75"
                },
                {
                  "0": "0",
                  "1": "135426.92",
                  "2": "0",
                  "3": "California",
                  "4": "42559.73"
                },
                {
                  "0": "542.05",
                  "1": "51743.15",
                  "2": "0",
                  "3": "New York",
                  "4": "35673.41"
                },
                {
                  "0": "0",
                  "1": "116983.8",
                  "2": "45173.06",
                  "3": "California",
                  "4": "14681.4"
                }
              ],
              "schema": [
                {
                  "key": "0",
                  "name": "RD_Spend",
                  "type": "string"
                },
                {
                  "key": "1",
                  "name": "Administration",
                  "type": "string"
                },
                {
                  "key": "2",
                  "name": "Marketing_Spend",
                  "type": "string"
                },
                {
                  "key": "3",
                  "name": "State",
                  "type": "string"
                },
                {
                  "key": "4",
                  "name": "Profit",
                  "type": "string"
                }
              ],
              "truncated": false
            },
            "isSummary": false,
            "language": "scala"
          },
          "persist_state": {
            "view": {
              "type": "details",
              "tableOptions": {},
              "chartOptions": {
                "chartType": "bar",
                "aggregationType": "count",
                "categoryFieldKeys": [
                  "0"
                ],
                "seriesFieldKeys": [
                  "0"
                ],
                "isStacked": false
              }
            }
          }
        },
        "e0d89c36-b31a-4b52-a383-1c076f7e0c3b": {
          "type": "Synapse.DataFrame",
          "sync_state": {
            "table": {
              "rows": [
                {
                  "0": "165349.2",
                  "1": "136897.8",
                  "2": "471784.1",
                  "3": "New York",
                  "4": "192261.83"
                },
                {
                  "0": "144372.41",
                  "1": "118671.85",
                  "2": "383199.62",
                  "3": "New York",
                  "4": "182901.99"
                },
                {
                  "0": "131876.9",
                  "1": "99814.71",
                  "2": "362861.36",
                  "3": "New York",
                  "4": "156991.12"
                },
                {
                  "0": "120542.52",
                  "1": "148718.95",
                  "2": "311613.29",
                  "3": "New York",
                  "4": "152211.77"
                },
                {
                  "0": "114523.61",
                  "1": "122616.84",
                  "2": "261776.23",
                  "3": "New York",
                  "4": "129917.04"
                },
                {
                  "0": "94657.16",
                  "1": "145077.58",
                  "2": "282574.31",
                  "3": "New York",
                  "4": "125370.37"
                },
                {
                  "0": "86419.7",
                  "1": "153514.11",
                  "2": "0",
                  "3": "New York",
                  "4": "122776.86"
                },
                {
                  "0": "78389.47",
                  "1": "153773.43",
                  "2": "299737.29",
                  "3": "New York",
                  "4": "111313.02"
                },
                {
                  "0": "77044.01",
                  "1": "99281.34",
                  "2": "140574.81",
                  "3": "New York",
                  "4": "108552.04"
                },
                {
                  "0": "72107.6",
                  "1": "127864.55",
                  "2": "353183.81",
                  "3": "New York",
                  "4": "105008.31"
                },
                {
                  "0": "65605.48",
                  "1": "153032.06",
                  "2": "107138.38",
                  "3": "New York",
                  "4": "101004.64"
                },
                {
                  "0": "61136.38",
                  "1": "152701.92",
                  "2": "88218.23",
                  "3": "New York",
                  "4": "97483.56"
                },
                {
                  "0": "46014.02",
                  "1": "85047.44",
                  "2": "205517.64",
                  "3": "New York",
                  "4": "96479.51"
                },
                {
                  "0": "20229.59",
                  "1": "65947.93",
                  "2": "185265.1",
                  "3": "New York",
                  "4": "81229.06"
                },
                {
                  "0": "15505.73",
                  "1": "127382.3",
                  "2": "35534.17",
                  "3": "New York",
                  "4": "69758.98"
                },
                {
                  "0": "1000.23",
                  "1": "124153.04",
                  "2": "1903.93",
                  "3": "New York",
                  "4": "64926.08"
                },
                {
                  "0": "542.05",
                  "1": "51743.15",
                  "2": "0",
                  "3": "New York",
                  "4": "35673.41"
                }
              ],
              "schema": [
                {
                  "key": "0",
                  "name": "RD_Spend",
                  "type": "string"
                },
                {
                  "key": "1",
                  "name": "Administration",
                  "type": "string"
                },
                {
                  "key": "2",
                  "name": "Marketing_Spend",
                  "type": "string"
                },
                {
                  "key": "3",
                  "name": "State",
                  "type": "string"
                },
                {
                  "key": "4",
                  "name": "Profit",
                  "type": "string"
                }
              ],
              "truncated": false
            },
            "isSummary": false,
            "language": "scala"
          },
          "persist_state": {
            "view": {
              "type": "details",
              "tableOptions": {},
              "chartOptions": {
                "chartType": "bar",
                "aggregationType": "count",
                "categoryFieldKeys": [
                  "0"
                ],
                "seriesFieldKeys": [
                  "0"
                ],
                "isStacked": false
              }
            }
          }
        },
        "122297ef-031f-402b-bd66-a772320ea759": {
          "type": "Synapse.DataFrame",
          "sync_state": {
            "table": {
              "rows": [
                {
                  "0": "165349.2",
                  "1": "136897.8",
                  "2": "471784.1",
                  "3": "New York",
                  "4": "192261.83"
                },
                {
                  "0": "144372.41",
                  "1": "118671.85",
                  "2": "383199.62",
                  "3": "New York",
                  "4": "182901.99"
                },
                {
                  "0": "131876.9",
                  "1": "99814.71",
                  "2": "362861.36",
                  "3": "New York",
                  "4": "156991.12"
                },
                {
                  "0": "120542.52",
                  "1": "148718.95",
                  "2": "311613.29",
                  "3": "New York",
                  "4": "152211.77"
                },
                {
                  "0": "114523.61",
                  "1": "122616.84",
                  "2": "261776.23",
                  "3": "New York",
                  "4": "129917.04"
                },
                {
                  "0": "94657.16",
                  "1": "145077.58",
                  "2": "282574.31",
                  "3": "New York",
                  "4": "125370.37"
                },
                {
                  "0": "86419.7",
                  "1": "153514.11",
                  "2": "0",
                  "3": "New York",
                  "4": "122776.86"
                },
                {
                  "0": "78389.47",
                  "1": "153773.43",
                  "2": "299737.29",
                  "3": "New York",
                  "4": "111313.02"
                },
                {
                  "0": "77044.01",
                  "1": "99281.34",
                  "2": "140574.81",
                  "3": "New York",
                  "4": "108552.04"
                },
                {
                  "0": "72107.6",
                  "1": "127864.55",
                  "2": "353183.81",
                  "3": "New York",
                  "4": "105008.31"
                }
              ],
              "schema": [
                {
                  "key": "0",
                  "name": "RD_Spend",
                  "type": "string"
                },
                {
                  "key": "1",
                  "name": "Administration",
                  "type": "string"
                },
                {
                  "key": "2",
                  "name": "Marketing_Spend",
                  "type": "string"
                },
                {
                  "key": "3",
                  "name": "State",
                  "type": "string"
                },
                {
                  "key": "4",
                  "name": "Profit",
                  "type": "string"
                }
              ],
              "truncated": false
            },
            "isSummary": false,
            "language": "scala"
          },
          "persist_state": {
            "view": {
              "type": "details",
              "tableOptions": {},
              "chartOptions": {
                "chartType": "bar",
                "aggregationType": "count",
                "categoryFieldKeys": [
                  "0"
                ],
                "seriesFieldKeys": [
                  "0"
                ],
                "isStacked": false
              }
            }
          }
        }
      }
    }
  },
  "nbformat": 4,
  "nbformat_minor": 2
}